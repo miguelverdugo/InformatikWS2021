{
 "cells": [
  {
   "cell_type": "code",
   "execution_count": 8,
   "metadata": {},
   "outputs": [],
   "source": [
    "import numpy as np\n",
    "import time\n",
    "import matplotlib.pyplot as plt"
   ]
  },
  {
   "cell_type": "markdown",
   "metadata": {},
   "source": [
    "<h2>Basic Basics</h2>"
   ]
  },
  {
   "cell_type": "markdown",
   "metadata": {},
   "source": [
    "<h3>if-Bedingungen</h3>"
   ]
  },
  {
   "cell_type": "code",
   "execution_count": null,
   "metadata": {},
   "outputs": [],
   "source": [
    "#if statement: \n",
    "#    wenn statement zutrifft --> mache was!\n",
    "a = 1\n",
    "b = 2\n",
    "if b > a: #In der If-Bedingung muss immer True oder False rauskommen!\n",
    "    print(\"b ist größer als a\")\n",
    "\n",
    "    \n",
    "#Weitere Verzweigungen\n",
    "a = 1\n",
    "b = 2\n",
    "if b > a:\n",
    "    print(\"b ist größer als a\")\n",
    "    \n",
    "elif b < a:\n",
    "    print(\"b ist größer als a\")\n",
    "    \n",
    "#Else Bedingung (wenn nichts zutrifft)\n",
    "a = 1\n",
    "b = 2\n",
    "if b > a:\n",
    "    print(\"b ist größer als a\")\n",
    "    \n",
    "elif b < a:\n",
    "    print(\"b ist größer als a\")\n",
    "\n",
    "else:\n",
    "    print(\"b und a sind gleich\")"
   ]
  },
  {
   "cell_type": "markdown",
   "metadata": {},
   "source": [
    "<h3>for loops</h3>"
   ]
  },
  {
   "cell_type": "code",
   "execution_count": 12,
   "metadata": {},
   "outputs": [],
   "source": [
    "#for loops brauchst du immer wenn du über sachen iterieren willst (also über alle elemente einer list zb)\n",
    "loop_liste = [1, 2, 3, 8, 9, 10]\n",
    "\n",
    "for zahl in loop_liste:\n",
    "    print(zahl)\n",
    "    \n",
    "#was nach dem \"in\" steht muss aber nicht unbedingt eine liste sein\n",
    "s = \"hallo\"\n",
    "\n",
    "for zeichen in s:\n",
    "    print(zeichen)\n",
    "    \n",
    "#Sehr oft braucht man dann die range() funktion\n",
    "#range(start, ende, steps)\n",
    "\n",
    "for zahl in range(0, 10): #Achte darauf, dass 10 nicht inkludiert wird\n",
    "    print(zahl)"
   ]
  },
  {
   "cell_type": "markdown",
   "metadata": {},
   "source": [
    "<h3>while loop</h3>"
   ]
  },
  {
   "cell_type": "code",
   "execution_count": null,
   "metadata": {},
   "outputs": [],
   "source": [
    "#while statement:\n",
    "#    mach was\n",
    "#Solange also das statement True ist werden die Befehle in der while loop ausgeführt\n",
    "\n",
    "#dieses while loop macht genau das gleiche wie die letzte for loop von oben\n",
    "n = 0\n",
    "while n < 10:\n",
    "    print(n)\n",
    "    n = n + 1"
   ]
  },
  {
   "cell_type": "markdown",
   "metadata": {},
   "source": [
    "<h3>Funktionen<h/3>"
   ]
  },
  {
   "cell_type": "code",
   "execution_count": null,
   "metadata": {},
   "outputs": [],
   "source": [
    "#Oftmals musst die Code-Segmente sehr oft ausführen (zb. summieren, ist das eine Primzahl?, etc)\n",
    "#Diese Code-Segmente kann man zusammenfassen in einer Funktion\n",
    "\n",
    "def name_der_funktion(parameter1, parameter2): #Du kannst die parameter natürlich benennen wie du willst\n",
    "    print(parameter1, parameter2) #Wichtig parameter1 und parameter2 sind dann nur in der Funktion definiert!\n",
    "    \n",
    "\n",
    "#Hier als bsp eine einfache funktion die die summe von einer zahl n bis m bildet\n",
    "def summe(n, m):\n",
    "    s = 0\n",
    "    \n",
    "    for zahl in range(n, m+1):\n",
    "        s = s + zahl\n",
    "    \n",
    "    return s\n",
    "    \n",
    "s = summe(1, 4)"
   ]
  },
  {
   "cell_type": "markdown",
   "metadata": {},
   "source": [
    "<h3>Mach dir die Dinge einfach!</h3>"
   ]
  },
  {
   "cell_type": "code",
   "execution_count": 13,
   "metadata": {},
   "outputs": [
    {
     "data": {
      "image/png": "[encoded data removed]",
      "text/plain": [
       "<matplotlib.figure.Figure at 0x7fd7a3307490>"
      ]
     },
     "metadata": {
      "needs_background": "light"
     },
     "output_type": "display_data"
    }
   ],
   "source": [
    "#Es gibt tausende Funktionen die oft genau das machen was du eigentlich brauchst\n",
    "#Zb die summe() funktion von oben bracuhst du gar nicht\n",
    "\n",
    "s = sum([1, 2, 3, 4]) #Spart zeit und der code schaut gleich viel übersichtlicher aus (und er ist auch schneller)\n",
    "\n",
    "#Andere nützliche funktionen sind zb:\n",
    "ma = max([1, 2, 3, 4]) #Gibt den maximalen Wert aus der liste zurück\n",
    "mi = min([1, 2, 3, 4]) #ich glaub du hast es verstanden\n",
    "\n",
    "#Numpy ist hier sehr mächtig und hat extrem viel was du fürs studium brauchst\n",
    "pi = np.pi\n",
    "\n",
    "x = np.linspace(0, 2*pi)\n",
    "plt.plot(x, np.sin(x)) #Oder plot funktionen aus matplotlib\n",
    "plt.show()"
   ]
  },
  {
   "cell_type": "markdown",
   "metadata": {},
   "source": [
    "<h3>Auch nice: break, continue</h3>"
   ]
  },
  {
   "cell_type": "code",
   "execution_count": null,
   "metadata": {},
   "outputs": [],
   "source": [
    "#Oftmals will man eine Schleife unter einer bestimmten bedingung abrechen\n",
    "\n",
    "x = 0\n",
    "while True: #Endlosschleife\n",
    "    x = x + 1\n",
    "    if x > 10:\n",
    "        break #Die schleife wird abgebrochen \n",
    "        \n",
    "#ich komme also nach dem break wieder hier hin und gehe weiteren code durch\n",
    "\n",
    "#oft will man nicht unter bestimmten bedingen den ganzen code in einer schleife durchführen\n",
    "\n",
    "for i in range(0, 10):\n",
    "    if i%2 == 0:\n",
    "        continue #Wenn ich hier hinkomme gehe ich die schleife weiter ohne den code darunter auszuführen\n",
    "    \n",
    "    print(i)"
   ]
  },
  {
   "cell_type": "markdown",
   "metadata": {},
   "source": [
    "<h2>Basics</h2>"
   ]
  },
  {
   "cell_type": "markdown",
   "metadata": {},
   "source": [
    "<h4>Aufgabe 1</h4>"
   ]
  },
  {
   "cell_type": "code",
   "execution_count": 10,
   "metadata": {
    "scrolled": false
   },
   "outputs": [
    {
     "name": "stdout",
     "output_type": "stream",
     "text": [
      "(<type 'int'>, <type 'float'>)\n",
      "0\n",
      "0\n",
      "(15, <type 'int'>)\n",
      "('15', <type 'str'>)\n"
     ]
    }
   ],
   "source": [
    "i = 1\n",
    "d = 1.1\n",
    "\n",
    "print(type(i), type(d))\n",
    "\n",
    "a = 3\n",
    "b = 4\n",
    "\n",
    "print(a//b)\n",
    "print(a/b)\n",
    "\n",
    "s = '15'\n",
    "x = int(s)\n",
    "print(x, type(x))\n",
    "print(s, type(s))"
   ]
  },
  {
   "cell_type": "markdown",
   "metadata": {},
   "source": [
    "<h4>Aufgabe 2</h4>"
   ]
  },
  {
   "cell_type": "code",
   "execution_count": 3,
   "metadata": {
    "scrolled": true
   },
   "outputs": [
    {
     "name": "stdout",
     "output_type": "stream",
     "text": [
      "17.294507798720378\n"
     ]
    }
   ],
   "source": [
    "point_1 = [2.8, -4.7, 0.4]\n",
    "point_2 = [-8.1, 3.0, -10.6]\n",
    "\n",
    "s = 0\n",
    "for i in range(len(point_1)):\n",
    "    s += (point_1[i] - point_2[i])**2\n",
    "\n",
    "print(np.sqrt(s))"
   ]
  },
  {
   "cell_type": "markdown",
   "metadata": {},
   "source": [
    "<h2>Mittel</h2>"
   ]
  },
  {
   "cell_type": "markdown",
   "metadata": {},
   "source": [
    "<h4>Aufgabe 6</h4>"
   ]
  },
  {
   "cell_type": "code",
   "execution_count": 4,
   "metadata": {},
   "outputs": [
    {
     "name": "stdout",
     "output_type": "stream",
     "text": [
      "-41.02\n",
      "[48.62, 26.439999999999998, -29.67]\n"
     ]
    }
   ],
   "source": [
    "def dot(v1, v2):\n",
    "    \n",
    "    if len(v1) != len(v2):\n",
    "        return None\n",
    "    \n",
    "    s = 0\n",
    "    for i in range(len(v1)):\n",
    "        s = s + v1[i] * v2[i]\n",
    "    \n",
    "    return s\n",
    "\n",
    "\n",
    "def cross(v1, v2):\n",
    "       \n",
    "    return [v1[1]*v2[2] - v1[2]*v2[1], \n",
    "            v1[2]*v2[0] - v1[0]*v2[2], \n",
    "            v1[0]*v2[1] - v1[1]*v2[0]]\n",
    "\n",
    "\n",
    "point_1 = [2.8, -4.7, 0.4]\n",
    "point_2 = [-8.1, 3.0, -10.6]\n",
    "\n",
    "print(dot(point_1, point_2))\n",
    "print(cross(point_1, point_2))"
   ]
  },
  {
   "cell_type": "markdown",
   "metadata": {},
   "source": [
    "<h4>Aufgabe 7</h4>"
   ]
  },
  {
   "cell_type": "code",
   "execution_count": 7,
   "metadata": {},
   "outputs": [
    {
     "name": "stdout",
     "output_type": "stream",
     "text": [
      "('Time for loop:', 0.22129607200622559)\n",
      "('Time for np:', 0.010730981826782227)\n"
     ]
    }
   ],
   "source": [
    "N = 10**6\n",
    "\n",
    "s_time = time.time()\n",
    "daten  = []\n",
    "\n",
    "for i in range(0, N):\n",
    "    daten.append(i**0.5)\n",
    "    \n",
    "loop_time = time.time() - s_time\n",
    "\n",
    "s_time  = time.time()\n",
    "daten   = np.sqrt(np.arange(0 ,N))\n",
    "np_time = time.time() - s_time\n",
    "\n",
    "\n",
    "print('Time for loop:', loop_time)\n",
    "print('Time for np:', np_time)"
   ]
  },
  {
   "cell_type": "markdown",
   "metadata": {},
   "source": [
    "<h4>Aufgabe 8</h4>"
   ]
  },
  {
   "cell_type": "code",
   "execution_count": 58,
   "metadata": {},
   "outputs": [
    {
     "data": {
      "image/png": "[encoded data removed]",
      "text/plain": [
       "<Figure size 432x288 with 1 Axes>"
      ]
     },
     "metadata": {
      "needs_background": "light"
     },
     "output_type": "display_data"
    }
   ],
   "source": [
    "def sqrt_loop_time(N):\n",
    "    s_time = time.time()\n",
    "    [i**0.5 for i in range(0, N)]\n",
    "    \n",
    "    return time.time() - s_time\n",
    "\n",
    "def sqrt_np_time(N):\n",
    "    s_time = time.time()\n",
    "    np.sqrt(range(0 ,N))\n",
    "    \n",
    "    return time.time() - s_time\n",
    "\n",
    "\n",
    "def plot_time(N_max, method):\n",
    "    Ns = np.arange(10000, N_max, 10000)\n",
    "    times = np.zeros(len(Ns))\n",
    "\n",
    "    for i in range(len(times)):\n",
    "        times[i] = method(Ns[i])\n",
    "    \n",
    "    plt.plot(Ns, times)\n",
    "\n",
    "plot_time(10**6, sqrt_loop_time)\n",
    "plot_time(10**6, sqrt_np_time)"
   ]
  },
  {
   "cell_type": "markdown",
   "metadata": {},
   "source": [
    "<h4>Aufgabe 10</h4>"
   ]
  },
  {
   "cell_type": "code",
   "execution_count": 66,
   "metadata": {},
   "outputs": [
    {
     "name": "stdout",
     "output_type": "stream",
     "text": [
      "[5, 6, 7, 8]\n",
      "[1, 3, 5, 7, 9]\n",
      "[10, 9, 8, 7, 6, 5, 4, 3, 2, 1]\n",
      "10\n"
     ]
    }
   ],
   "source": [
    "a = [1, 2, 3, 4, 5, 6, 7, 8, 9, 10]\n",
    "print(a[4:8])\n",
    "print(a[::2])\n",
    "print(a[::-1])\n",
    "print(a[-1])"
   ]
  },
  {
   "cell_type": "markdown",
   "metadata": {},
   "source": [
    "<h2>Advanced</h2>"
   ]
  },
  {
   "cell_type": "markdown",
   "metadata": {},
   "source": [
    "<h4>Aufgabe 1</h4>"
   ]
  },
  {
   "cell_type": "code",
   "execution_count": 204,
   "metadata": {},
   "outputs": [
    {
     "name": "stdout",
     "output_type": "stream",
     "text": [
      "Final list: [89, 44, 23, 88, 11, 94, 62, 91, 2, 10, 28, 5, 18, 49, 86, 97, 12, 59, 51, 98, 7, 53, 55, 8, 90, 77, 6, 58, 42, 75, 84, 27, 50, 39, 0, 80, 41, 4, 69, 83, 99, 93, 79, 87, 22, 30, 64, 3, 15, 81, 40, 78, 52, 46, 29, 14, 36, 21, 68, 43]\n",
      "Count of removed values: 40\n"
     ]
    }
   ],
   "source": [
    "def remove_duplicates(array, thres=10):\n",
    "    r_array = []\n",
    "    dup_c   = 0\n",
    "    \n",
    "    for element in array:\n",
    "        if element not in r_array:\n",
    "            r_array.append(element)\n",
    "            \n",
    "        else:\n",
    "            dup_c += 1\n",
    "            \n",
    "    if len(array) / len(r_array) * 100 < thres:\n",
    "        raise ValueError('Threshold not met')\n",
    "    \n",
    "    return r_array, dup_c\n",
    "\n",
    "test = np.random.randint(100, size=100)\n",
    "\n",
    "f_list, dup_c = remove_duplicates(test)\n",
    "print('Final list:', f_list)\n",
    "print('Count of removed values:', dup_c)"
   ]
  },
  {
   "cell_type": "markdown",
   "metadata": {},
   "source": [
    "<h4>Aufgabe 2</h4>"
   ]
  },
  {
   "cell_type": "code",
   "execution_count": 202,
   "metadata": {},
   "outputs": [
    {
     "name": "stdout",
     "output_type": "stream",
     "text": [
      "Sum: 953 of 21 primes\n",
      "Added primes: [ 7 11 13 17 19 23 29 31 37 41 43 47 53 59 61 67 71 73 79 83 89]\n"
     ]
    }
   ],
   "source": [
    "def isPrime(n):\n",
    "    if n == 2 or n == 3: \n",
    "        return True\n",
    "    \n",
    "    if n%2==0 or n < 2: \n",
    "        return False\n",
    "    \n",
    "    #Nur über ungerade Zahlen iterieren\n",
    "    for i in np.arange(3, int(np.sqrt(n))+1, 2):\n",
    "        if n%i==0:\n",
    "            return False    \n",
    "\n",
    "    return True\n",
    "\n",
    "def generate_prime_list(N):\n",
    "    prime_list = []\n",
    "    \n",
    "    for n in range(0, N):\n",
    "        if isPrime(n):\n",
    "            prime_list.append(n)\n",
    "    \n",
    "    return np.array(prime_list)    \n",
    "\n",
    "def prime_sum(thres):\n",
    "    s = []                                                #List that contains all the sums\n",
    "    s_prime_list = []                                     #List that contains list of all primes added\n",
    "    prime_list   = generate_prime_list(thres)\n",
    "        \n",
    "    for i in range(len(prime_list)):                      #Go through every possible sum\n",
    "        j = 2                                             #Variable we need in order to slice the prime list\n",
    "        while i+j < len(prime_list):\n",
    "            prime_sublist = prime_list[i:i+j]             #Here we create the sublists\n",
    "            sum_prime     = np.sum(prime_sublist)\n",
    "            \n",
    "            if isPrime(sum_prime) and sum_prime < thres:  #Check if the sum is a prime\n",
    "                s.append(sum_prime)\n",
    "                s_prime_list.append(prime_sublist)\n",
    "                \n",
    "            j += 1                                        #Reset j\n",
    "        \n",
    "    len_list = [len(l) for l in s_prime_list]             \n",
    "    i = np.where(len_list == np.max(len_list))[0][0]      #Find position where len is max\n",
    "    \n",
    "    return s[i], s_prime_list[i], len_list[i]             #Return the max sum, the primes added and the len list        \n",
    "    \n",
    "s, primes, l = prime_sum(1000)\n",
    "print('Sum:', s, 'of', l, 'primes')\n",
    "print('Added primes:', primes)"
   ]
  },
  {
   "cell_type": "code",
   "execution_count": null,
   "metadata": {},
   "outputs": [],
   "source": []
  }
 ],
 "metadata": {
  "kernelspec": {
   "display_name": "Python 3",
   "language": "python",
   "name": "python3"
  },
  "language_info": {
   "codemirror_mode": {
    "name": "ipython",
    "version": 2
   },
   "file_extension": ".py",
   "mimetype": "text/x-python",
   "name": "python",
   "nbconvert_exporter": "python",
   "pygments_lexer": "ipython2",
   "version": "2.7.17"
  }
 },
 "nbformat": 4,
 "nbformat_minor": 2
}
