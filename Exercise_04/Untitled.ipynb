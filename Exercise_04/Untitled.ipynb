{
 "cells": [
  {
   "cell_type": "code",
   "execution_count": 2,
   "id": "11ca92c4-b23a-4928-a758-ed342948de35",
   "metadata": {},
   "outputs": [],
   "source": [
    "import sys\n",
    "import matplotlib.pyplot as plt\n",
    "import os"
   ]
  },
  {
   "cell_type": "code",
   "execution_count": 7,
   "id": "a2dd247d-bc8c-4be6-a82f-237c15bd0e2f",
   "metadata": {},
   "outputs": [
    {
     "data": {
      "text/plain": [
       "'PING www.google.com(prg03s12-in-x04.1e100.net (2a00:1450:4014:80e::2004)) 56 data bytes\\n64 bytes from prg03s12-in-x04.1e100.net (2a00:1450:4014:80e::2004): icmp_seq=1 ttl=58 time=18.2 ms\\n64 bytes from prg03s12-in-x04.1e100.net (2a00:1450:4014:80e::2004): icmp_seq=2 ttl=58 time=18.3 ms\\n64 bytes from prg03s12-in-x04.1e100.net (2a00:1450:4014:80e::2004): icmp_seq=3 ttl=58 time=18.3 ms\\n64 bytes from prg03s12-in-x04.1e100.net (2a00:1450:4014:80e::2004): icmp_seq=4 ttl=58 time=18.4 ms\\n64 bytes from prg03s12-in-x04.1e100.net (2a00:1450:4014:80e::2004): icmp_seq=5 ttl=58 time=18.3 ms\\n64 bytes from prg03s12-in-x04.1e100.net (2a00:1450:4014:80e::2004): icmp_seq=6 ttl=58 time=18.3 ms\\n64 bytes from prg03s12-in-x04.1e100.net (2a00:1450:4014:80e::2004): icmp_seq=7 ttl=58 time=18.3 ms\\n64 bytes from prg03s12-in-x04.1e100.net (2a00:1450:4014:80e::2004): icmp_seq=8 ttl=58 time=18.3 ms\\n64 bytes from prg03s12-in-x04.1e100.net (2a00:1450:4014:80e::2004): icmp_seq=9 ttl=58 time=18.3 ms\\n64 bytes from prg03s12-in-x04.1e100.net (2a00:1450:4014:80e::2004): icmp_seq=10 ttl=58 time=18.3 ms\\n64 bytes from prg03s12-in-x04.1e100.net (2a00:1450:4014:80e::2004): icmp_seq=11 ttl=58 time=18.3 ms\\n64 bytes from prg03s12-in-x04.1e100.net (2a00:1450:4014:80e::2004): icmp_seq=12 ttl=58 time=18.3 ms\\n64 bytes from prg03s12-in-x04.1e100.net (2a00:1450:4014:80e::2004): icmp_seq=13 ttl=58 time=18.3 ms\\n64 bytes from prg03s12-in-x04.1e100.net (2a00:1450:4014:80e::2004): icmp_seq=14 ttl=58 time=18.3 ms\\n64 bytes from prg03s12-in-x04.1e100.net (2a00:1450:4014:80e::2004): icmp_seq=15 ttl=58 time=18.3 ms\\n64 bytes from prg03s12-in-x04.1e100.net (2a00:1450:4014:80e::2004): icmp_seq=16 ttl=58 time=18.3 ms\\n64 bytes from prg03s12-in-x04.1e100.net (2a00:1450:4014:80e::2004): icmp_seq=17 ttl=58 time=18.3 ms\\n64 bytes from prg03s12-in-x04.1e100.net (2a00:1450:4014:80e::2004): icmp_seq=18 ttl=58 time=18.3 ms\\n64 bytes from prg03s12-in-x04.1e100.net (2a00:1450:4014:80e::2004): icmp_seq=19 ttl=58 time=18.2 ms\\n64 bytes from prg03s12-in-x04.1e100.net (2a00:1450:4014:80e::2004): icmp_seq=20 ttl=58 time=18.3 ms\\n64 bytes from prg03s12-in-x04.1e100.net (2a00:1450:4014:80e::2004): icmp_seq=21 ttl=58 time=18.3 ms\\n64 bytes from prg03s12-in-x04.1e100.net (2a00:1450:4014:80e::2004): icmp_seq=22 ttl=58 time=18.2 ms\\n64 bytes from prg03s12-in-x04.1e100.net (2a00:1450:4014:80e::2004): icmp_seq=23 ttl=58 time=18.3 ms\\n64 bytes from prg03s12-in-x04.1e100.net (2a00:1450:4014:80e::2004): icmp_seq=24 ttl=58 time=18.3 ms\\n64 bytes from prg03s12-in-x04.1e100.net (2a00:1450:4014:80e::2004): icmp_seq=25 ttl=58 time=18.2 ms\\n64 bytes from prg03s12-in-x04.1e100.net (2a00:1450:4014:80e::2004): icmp_seq=26 ttl=58 time=18.3 ms\\n64 bytes from prg03s12-in-x04.1e100.net (2a00:1450:4014:80e::2004): icmp_seq=27 ttl=58 time=18.3 ms\\n64 bytes from prg03s12-in-x04.1e100.net (2a00:1450:4014:80e::2004): icmp_seq=28 ttl=58 time=18.2 ms\\n64 bytes from prg03s12-in-x04.1e100.net (2a00:1450:4014:80e::2004): icmp_seq=29 ttl=58 time=18.2 ms\\n64 bytes from prg03s12-in-x04.1e100.net (2a00:1450:4014:80e::2004): icmp_seq=30 ttl=58 time=18.3 ms\\n64 bytes from prg03s12-in-x04.1e100.net (2a00:1450:4014:80e::2004): icmp_seq=31 ttl=58 time=18.3 ms\\n64 bytes from prg03s12-in-x04.1e100.net (2a00:1450:4014:80e::2004): icmp_seq=32 ttl=58 time=18.2 ms\\n64 bytes from prg03s12-in-x04.1e100.net (2a00:1450:4014:80e::2004): icmp_seq=33 ttl=58 time=18.4 ms\\n64 bytes from prg03s12-in-x04.1e100.net (2a00:1450:4014:80e::2004): icmp_seq=34 ttl=58 time=18.4 ms\\n64 bytes from prg03s12-in-x04.1e100.net (2a00:1450:4014:80e::2004): icmp_seq=35 ttl=58 time=18.3 ms\\n64 bytes from prg03s12-in-x04.1e100.net (2a00:1450:4014:80e::2004): icmp_seq=36 ttl=58 time=18.4 ms\\n64 bytes from prg03s12-in-x04.1e100.net (2a00:1450:4014:80e::2004): icmp_seq=37 ttl=58 time=18.4 ms\\n64 bytes from prg03s12-in-x04.1e100.net (2a00:1450:4014:80e::2004): icmp_seq=38 ttl=58 time=18.3 ms\\n64 bytes from prg03s12-in-x04.1e100.net (2a00:1450:4014:80e::2004): icmp_seq=39 ttl=58 time=18.3 ms\\n64 bytes from prg03s12-in-x04.1e100.net (2a00:1450:4014:80e::2004): icmp_seq=40 ttl=58 time=18.4 ms\\n64 bytes from prg03s12-in-x04.1e100.net (2a00:1450:4014:80e::2004): icmp_seq=41 ttl=58 time=18.3 ms\\n64 bytes from prg03s12-in-x04.1e100.net (2a00:1450:4014:80e::2004): icmp_seq=42 ttl=58 time=18.4 ms\\n64 bytes from prg03s12-in-x04.1e100.net (2a00:1450:4014:80e::2004): icmp_seq=43 ttl=58 time=18.3 ms\\n64 bytes from prg03s12-in-x04.1e100.net (2a00:1450:4014:80e::2004): icmp_seq=44 ttl=58 time=18.3 ms\\n64 bytes from prg03s12-in-x04.1e100.net (2a00:1450:4014:80e::2004): icmp_seq=45 ttl=58 time=18.2 ms\\n64 bytes from prg03s12-in-x04.1e100.net (2a00:1450:4014:80e::2004): icmp_seq=46 ttl=58 time=18.4 ms\\n64 bytes from prg03s12-in-x04.1e100.net (2a00:1450:4014:80e::2004): icmp_seq=47 ttl=58 time=18.5 ms\\n64 bytes from prg03s12-in-x04.1e100.net (2a00:1450:4014:80e::2004): icmp_seq=48 ttl=58 time=18.2 ms\\n64 bytes from prg03s12-in-x04.1e100.net (2a00:1450:4014:80e::2004): icmp_seq=49 ttl=58 time=18.2 ms\\n64 bytes from prg03s12-in-x04.1e100.net (2a00:1450:4014:80e::2004): icmp_seq=50 ttl=58 time=18.3 ms\\n64 bytes from prg03s12-in-x04.1e100.net (2a00:1450:4014:80e::2004): icmp_seq=51 ttl=58 time=18.3 ms\\n64 bytes from prg03s12-in-x04.1e100.net (2a00:1450:4014:80e::2004): icmp_seq=52 ttl=58 time=18.3 ms\\n64 bytes from prg03s12-in-x04.1e100.net (2a00:1450:4014:80e::2004): icmp_seq=53 ttl=58 time=18.3 ms\\n64 bytes from prg03s12-in-x04.1e100.net (2a00:1450:4014:80e::2004): icmp_seq=54 ttl=58 time=18.2 ms\\n64 bytes from prg03s12-in-x04.1e100.net (2a00:1450:4014:80e::2004): icmp_seq=55 ttl=58 time=18.2 ms\\n64 bytes from prg03s12-in-x04.1e100.net (2a00:1450:4014:80e::2004): icmp_seq=56 ttl=58 time=18.3 ms\\n64 bytes from prg03s12-in-x04.1e100.net (2a00:1450:4014:80e::2004): icmp_seq=57 ttl=58 time=18.2 ms\\n64 bytes from prg03s12-in-x04.1e100.net (2a00:1450:4014:80e::2004): icmp_seq=58 ttl=58 time=18.3 ms\\n64 bytes from prg03s12-in-x04.1e100.net (2a00:1450:4014:80e::2004): icmp_seq=59 ttl=58 time=18.3 ms\\n64 bytes from prg03s12-in-x04.1e100.net (2a00:1450:4014:80e::2004): icmp_seq=60 ttl=58 time=18.3 ms\\n64 bytes from prg03s12-in-x04.1e100.net (2a00:1450:4014:80e::2004): icmp_seq=61 ttl=58 time=18.2 ms\\n64 bytes from prg03s12-in-x04.1e100.net (2a00:1450:4014:80e::2004): icmp_seq=62 ttl=58 time=18.4 ms\\n64 bytes from prg03s12-in-x04.1e100.net (2a00:1450:4014:80e::2004): icmp_seq=63 ttl=58 time=18.2 ms\\n64 bytes from prg03s12-in-x04.1e100.net (2a00:1450:4014:80e::2004): icmp_seq=64 ttl=58 time=18.3 ms\\n64 bytes from prg03s12-in-x04.1e100.net (2a00:1450:4014:80e::2004): icmp_seq=65 ttl=58 time=18.3 ms\\n64 bytes from prg03s12-in-x04.1e100.net (2a00:1450:4014:80e::2004): icmp_seq=66 ttl=58 time=18.3 ms\\n64 bytes from prg03s12-in-x04.1e100.net (2a00:1450:4014:80e::2004): icmp_seq=67 ttl=58 time=18.2 ms\\n64 bytes from prg03s12-in-x04.1e100.net (2a00:1450:4014:80e::2004): icmp_seq=68 ttl=58 time=18.2 ms\\n64 bytes from prg03s12-in-x04.1e100.net (2a00:1450:4014:80e::2004): icmp_seq=69 ttl=58 time=18.3 ms\\n64 bytes from prg03s12-in-x04.1e100.net (2a00:1450:4014:80e::2004): icmp_seq=70 ttl=58 time=18.3 ms\\n64 bytes from prg03s12-in-x04.1e100.net (2a00:1450:4014:80e::2004): icmp_seq=71 ttl=58 time=18.3 ms\\n64 bytes from prg03s12-in-x04.1e100.net (2a00:1450:4014:80e::2004): icmp_seq=72 ttl=58 time=18.2 ms\\n64 bytes from prg03s12-in-x04.1e100.net (2a00:1450:4014:80e::2004): icmp_seq=73 ttl=58 time=18.2 ms\\n64 bytes from prg03s12-in-x04.1e100.net (2a00:1450:4014:80e::2004): icmp_seq=74 ttl=58 time=18.3 ms\\n64 bytes from prg03s12-in-x04.1e100.net (2a00:1450:4014:80e::2004): icmp_seq=75 ttl=58 time=18.3 ms\\n64 bytes from prg03s12-in-x04.1e100.net (2a00:1450:4014:80e::2004): icmp_seq=76 ttl=58 time=18.3 ms\\n64 bytes from prg03s12-in-x04.1e100.net (2a00:1450:4014:80e::2004): icmp_seq=77 ttl=58 time=18.3 ms\\n64 bytes from prg03s12-in-x04.1e100.net (2a00:1450:4014:80e::2004): icmp_seq=78 ttl=58 time=18.3 ms\\n64 bytes from prg03s12-in-x04.1e100.net (2a00:1450:4014:80e::2004): icmp_seq=79 ttl=58 time=18.3 ms\\n64 bytes from prg03s12-in-x04.1e100.net (2a00:1450:4014:80e::2004): icmp_seq=80 ttl=58 time=18.4 ms\\n64 bytes from prg03s12-in-x04.1e100.net (2a00:1450:4014:80e::2004): icmp_seq=81 ttl=58 time=18.2 ms\\n64 bytes from prg03s12-in-x04.1e100.net (2a00:1450:4014:80e::2004): icmp_seq=82 ttl=58 time=18.4 ms\\n64 bytes from prg03s12-in-x04.1e100.net (2a00:1450:4014:80e::2004): icmp_seq=83 ttl=58 time=18.3 ms\\n64 bytes from prg03s12-in-x04.1e100.net (2a00:1450:4014:80e::2004): icmp_seq=84 ttl=58 time=18.4 ms\\n64 bytes from prg03s12-in-x04.1e100.net (2a00:1450:4014:80e::2004): icmp_seq=85 ttl=58 time=18.3 ms\\n64 bytes from prg03s12-in-x04.1e100.net (2a00:1450:4014:80e::2004): icmp_seq=86 ttl=58 time=18.3 ms\\n64 bytes from prg03s12-in-x04.1e100.net (2a00:1450:4014:80e::2004): icmp_seq=87 ttl=58 time=18.2 ms\\n64 bytes from prg03s12-in-x04.1e100.net (2a00:1450:4014:80e::2004): icmp_seq=88 ttl=58 time=18.3 ms\\n64 bytes from prg03s12-in-x04.1e100.net (2a00:1450:4014:80e::2004): icmp_seq=89 ttl=58 time=18.3 ms\\n64 bytes from prg03s12-in-x04.1e100.net (2a00:1450:4014:80e::2004): icmp_seq=90 ttl=58 time=18.2 ms\\n64 bytes from prg03s12-in-x04.1e100.net (2a00:1450:4014:80e::2004): icmp_seq=91 ttl=58 time=18.2 ms\\n64 bytes from prg03s12-in-x04.1e100.net (2a00:1450:4014:80e::2004): icmp_seq=92 ttl=58 time=18.2 ms\\n64 bytes from prg03s12-in-x04.1e100.net (2a00:1450:4014:80e::2004): icmp_seq=93 ttl=58 time=18.2 ms\\n64 bytes from prg03s12-in-x04.1e100.net (2a00:1450:4014:80e::2004): icmp_seq=94 ttl=58 time=18.3 ms\\n64 bytes from prg03s12-in-x04.1e100.net (2a00:1450:4014:80e::2004): icmp_seq=95 ttl=58 time=18.3 ms\\n64 bytes from prg03s12-in-x04.1e100.net (2a00:1450:4014:80e::2004): icmp_seq=96 ttl=58 time=18.3 ms\\n64 bytes from prg03s12-in-x04.1e100.net (2a00:1450:4014:80e::2004): icmp_seq=97 ttl=58 time=18.3 ms\\n64 bytes from prg03s12-in-x04.1e100.net (2a00:1450:4014:80e::2004): icmp_seq=98 ttl=58 time=18.3 ms\\n64 bytes from prg03s12-in-x04.1e100.net (2a00:1450:4014:80e::2004): icmp_seq=99 ttl=58 time=18.3 ms\\n64 bytes from prg03s12-in-x04.1e100.net (2a00:1450:4014:80e::2004): icmp_seq=100 ttl=58 time=18.3 ms\\n\\n--- www.google.com ping statistics ---\\n100 packets transmitted, 100 received, 0% packet loss, time 99139ms\\nrtt min/avg/max/mdev = 18.231/18.335/18.507/0.191 ms\\n'"
      ]
     },
     "execution_count": 7,
     "metadata": {},
     "output_type": "execute_result"
    }
   ],
   "source": [
    "stream = os.popen('ping www.google.com -c 100')\n",
    "output = stream.read()\n",
    "output"
   ]
  }
 ],
 "metadata": {
  "kernelspec": {
   "display_name": "Python 3 (ipykernel)",
   "language": "python",
   "name": "python3"
  },
  "language_info": {
   "codemirror_mode": {
    "name": "ipython",
    "version": 3
   },
   "file_extension": ".py",
   "mimetype": "text/x-python",
   "name": "python",
   "nbconvert_exporter": "python",
   "pygments_lexer": "ipython3",
   "version": "3.8.5"
  }
 },
 "nbformat": 4,
 "nbformat_minor": 5
}
